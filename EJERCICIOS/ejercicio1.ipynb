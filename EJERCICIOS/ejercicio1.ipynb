{
 "cells": [
  {
   "cell_type": "code",
   "execution_count": 22,
   "metadata": {},
   "outputs": [
    {
     "name": "stdout",
     "output_type": "stream",
     "text": [
      "Usuario de  Escuela De Código\n",
      "--------------------\n",
      " Nombre: Juan\n",
      " folio:3\n"
     ]
    }
   ],
   "source": [
    "'''Saber cómo dar formato a las cadenas es esencial cuando se presenta información de un programa. Hay algunas maneras diferentes de lograr esto en Python. En este ejercicio, se utilizan variables que contienen datos clave sobre usuarios y luego se utilizan para dar formato e imprimir la información.\n",
    "\n",
    "image\n",
    "Datos con los que vas a trabajar\n",
    "\n",
    "taller = \"Escuela de Código\"\n",
    "\n",
    "folio = 3\n",
    "\n",
    "nombre = \"Juan\"\n",
    "\n",
    "    Primero, crea un título para el texto. Debido a que este texto trata sobre la gravedad en la Tierra y la Luna, úsalo para crear un título significativo. Utiliza las variables en lugar de escribir.\n",
    "\n",
    "    Ahora crea una plantilla de cadena multilínea para contener el resto de la información.\n",
    "\n",
    "    Finalmente, usa ambas variables para unir el título y los hechos.\n",
    "\n",
    "    Ahora usa información de un usuario diferente para ver si la plantilla todavía funciona.\n",
    "\n",
    "Datos muestra:\n",
    "\n",
    "taller = 'Huertos '\n",
    "\n",
    "folio = 34\n",
    "\n",
    "nombre = 'María'\n",
    "\n",
    "    La salida no muestra información sobre María. Todavía muestra información sobre la Juan. Esto sucede porque las cadenas f están ansiosas en su evaluación, por lo que las variables una vez asignadas no se pueden reasignar. Para evitar este problema, vuelva a hacer la plantilla para utilizar .format():\n",
    "'''\n",
    "\n",
    "\n",
    "taller = \"Escuela de Código\" .title ()\n",
    "\n",
    "folio = 3\n",
    "nombre = \"Juan\"\n",
    "titulo = \"Usuario de\"\n",
    "print (f'Usuario de  {taller}')\n",
    "print ('-'*20)\n",
    "print(f' Nombre: {nombre}\\n folio:{folio}')\n",
    "\n",
    "\n",
    "\n",
    "\n"
   ]
  }
 ],
 "metadata": {
  "kernelspec": {
   "display_name": "Python 3.6.9 64-bit",
   "language": "python",
   "name": "python3"
  },
  "language_info": {
   "codemirror_mode": {
    "name": "ipython",
    "version": 3
   },
   "file_extension": ".py",
   "mimetype": "text/x-python",
   "name": "python",
   "nbconvert_exporter": "python",
   "pygments_lexer": "ipython3",
   "version": "3.6.9"
  },
  "orig_nbformat": 4,
  "vscode": {
   "interpreter": {
    "hash": "31f2aee4e71d21fbe5cf8b01ff0e069b9275f58929596ceb00d14d90e3e16cd6"
   }
  }
 },
 "nbformat": 4,
 "nbformat_minor": 2
}
