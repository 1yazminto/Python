{
 "cells": [
  {
   "cell_type": "markdown",
   "metadata": {},
   "source": [
    "## 2. Números enteros y reales.\n",
    "### Números enteros\n",
    "Son aquellos números positivos o negativos que no tienen decimales (además\n",
    "del cero).\n",
    "\n",
    "En Python se pueden representar mediante el tipo int (de integer, entero) o el\n",
    "tipo long (largo). La única diferencia es que el tipo long permite almacenar\n",
    "números más grandes. Es aconsejable no utilizar el tipo long a menos que sea\n",
    "necesario, para no malgastar memoria.\n",
    "\n",
    "El tipo int de Python se implementa a bajo nivel mediante un tipo long de C. Y\n",
    "dado que Python utiliza C por debajo, como C, y a diferencia de Java, el rango\n",
    "de los valores que puede representar depende de la plataforma.\n",
    "En la mayor parte de las máquinas el long de C se almacena utilizando 32 bits,\n",
    "es decir, mediante el uso de una variable de tipo int de Python podemos\n",
    "almacenar números de -231 a 231 - 1, o lo que es lo mismo, de -2.147.483.648\n",
    "a 2.147.483.647. En plataformas de 64 bits, el rango es de -\n",
    "9.223.372.036.854.775.808 hasta 9.223.372.036.854.775.807.\n",
    "\n",
    "El tipo long de Python permite almacenar números de cualquier precisión,\n",
    "estando limitados solo por la memoria disponible en la máquina. Al asignar un\n",
    "número a una variable esta pasará a tener tipo int, a menos que el número sea\n",
    "tan grande como para requerir el uso del tipo long.\n",
    "\n",
    "### Reales\n",
    "Los números reales son los que tienen decimales. En Python se expresan\n",
    "mediante el tipo float.\n",
    "\n",
    "En otros lenguajes de programación, como C, tenemos también el tipo double,\n",
    "similar a float pero de mayor precisión (double = doble precisión). Python, sin\n",
    "embargo, implementa su tipo float a bajo nivel mediante una variable de tipo\n",
    "double de C, es decir, utilizando 64 bits, luego en Python siempre se utiliza doble\n",
    "precisión, y en concreto se sigue el estándar IEEE 754: 1 bit para el signo, 11\n",
    "para el exponente, y 52 para la mantisa. Esto significa que los valores que\n",
    "podemos representar van desde ±2,2250738585072020 x 10-308 hasta\n",
    "±1,7976931348623157×10308.\n",
    "\n",
    "La mayor parte de los lenguajes de programación siguen el mismo esquema\n",
    "para la representación interna. Pero como muchos sabréis esta tiene sus\n",
    "limitaciones, impuestas por el hardware.\n",
    "\n",
    "Por eso desde Python 2.4 contamos también con un nuevo tipo Decimal, para el\n",
    "caso de que se necesite representar fracciones de forma más precisa.\n",
    "Sin embargo, este tipo está fuera del alcance de este tutorial, y sólo es necesario\n",
    "para el ámbito de la programación científica y otros relacionados.\n",
    "Para aplicaciones normales poder utilizar el tipo float sin miedo, como ha venido\n",
    "haciéndose desde hace años, aunque teniendo en cuenta que los números en\n",
    "coma flotante no son precisos (ni en este ni en otros lenguajes de programación).\n",
    "Para representar un número real en Python se escribe primero la parte entera,\n",
    "seguido de un punto y por último la parte decimal \n"
   ]
  },
  {
   "cell_type": "markdown",
   "metadata": {},
   "source": [
    "## 3. Operadores aritméticos.\n",
    "### Operadores\n",
    "Veamos ahora qué podemos hacer con nuestros números usando los\n",
    "operadores por defecto. Para operaciones más complejas podemos recurrir al\n",
    "módulo math.\n",
    "\n",
    "Operador | Descripción |Ejemplo | resultado\n",
    "-------- | -------- | -------- |--------\n",
    "```+```| suma | c=8+5 |c=13\n",
    "```-```| resta | c=8-5 |c=3\n",
    "```-```| negación | c=-7 |c=-7\n",
    "```*```| multiplicación | c=8*5 |c=40\n",
    "```**```| potencia | c=2**3 |c=8\n",
    "```/```| división | c=40/5 |c=8\n",
    "```//```| división entera | c=7.5//2 |c=3.0\n",
    "```%```| módulo | c=8%3 |c=2\n",
    "\n",
    "\n",
    "Puede que tengas dudas sobre cómo funciona el operador de módulo, y cuál es\n",
    "la diferencia entre división y división entera.\n",
    "\n",
    "El operador de módulo no hace otra cosa que devolvernos el resto de la división\n",
    "entre los dos operandos.\n",
    "\n",
    "En el ejemplo, 7/2 sería 3, con 1 de resto, luego el módulo es 1.\n",
    "\n",
    "La diferencia entre división y división entera no es otra que la que indica su\n",
    "nombre.\n",
    "\n",
    "En la división el resultado que se devuelve es un número real, mientras que en\n",
    "la división entera el resultado que se devuelve es solo la parte entera. No\n",
    "obstante hay que tener en cuenta que si utilizamos dos operandos enteros,\n",
    "Python determinará que queremos que la variable resultado también sea un\n",
    "entero, por lo que el resultado de, por ejemplo, 3 / 2 y 3 // 2 sería el mismo: 1.\n",
    "Si quisiéramos obtener los decimales necesitaríamos que al menos uno de los\n",
    "operadores fuera un número real, bien indicando los decimales.\n",
    "\n",
    "### 3.1. Boleanos.\n",
    "\n",
    "Como decíamos al comienzo del capítulo una variable de tipo booleano sólo\n",
    "puede tener dos valores: True (cierto) y False (falso). Estos valores son\n",
    "especialmente importantes para las expresiones condicionales y los bucles,\n",
    "como veremos más adelante.\n",
    "\n",
    "En realidad el tipo bool (el tipo de los booleanos) es una subclase del tipo int.\n",
    "Puede que esto no tenga mucho sentido para tí si no conoces los términos de la orientación a objetos, que veremos más adelante, aunque tampoco es nada\n",
    "importante. Estos son los distintos tipos de operadores con los que podemos\n",
    "trabajar con valores booleanos, los llamados operadores lógicos o\n",
    "condicionales.\n",
    "\n",
    "\n",
    "Operador | Descripción |Ejemplo \n",
    "-------- | -------- | -------- \n",
    "```and```| se cumplen a y b | true o false\n",
    "```and```| se cumplen a o b | true o false\n",
    "```not```| Not a  | true o false\n",
    "\n",
    "\n",
    "Los valores booleanos son además el resultado de expresiones que utilizan\n",
    "operadores relacionales (comparaciones entre valores):\n",
    "\n",
    "Operador | Descripción |Ejemplo \n",
    "-------- | -------- | -------- \n",
    "```==```| son iguales a y b | r = 5 == 3 r es false\n",
    "```!```| son distintos a y b | r = 5 != 3 r es true\n",
    "```>```| es mayor a que b  | r = 5 > 3 r es true\n",
    "```<```| es menor a que b | r = 5 < 3 r es false\n",
    "\n",
    "\n",
    "### 3.2. Operadores lógicos\n",
    "Estos son operadores que actúan sobre las representaciones en binario de los\n",
    "operandores. Por ejemplo:\n",
    "\n",
    "Si veis una operación como 3 & 2, lo que estás viendo es un and bit a bit entre\n",
    "los números binarios 11 y 10 (las representaciones en binario de 3 y 2).\n",
    "\n",
    "El operador and (&), del inglés “y”, devuelve 1 si el primer bit operando es 1 y el\n",
    "segundo bit operando es 1. Se devuelve 0 en caso contrario.\n",
    "\n",
    "El resultado de aplicar and bit a bit a 11 y 10 sería entonces el número binario\n",
    "10, o lo que es lo mismo, 2 en decimal (el primer dígito es 1 para ambas cifras,\n",
    "mientras que el segundo es 1 sólo para una de ellas).\n",
    "\n",
    "El operador or (|), del inglés “o”, devuelve 1 si el primer operando es 1 o el\n",
    "segundo operando es 1.\n",
    "\n",
    "Para el resto de casos se devuelve 0. El operador xor u or exclusivo (^) devuelve\n",
    "1 si uno de los operandos es 1 y el otro no lo es. El operador not (~), del inglés\n",
    "“no”, sirve para negar uno a uno cada bit; es decir, si el operando es 0, cambia\n",
    "a 1 y si es 1, cambia a 0.\n",
    "\n",
    "Por último, los operadores de desplazamiento (<< y >>) sirven para desplazar\n",
    "los bits n posiciones hacia la izquierda o la derecha.\n",
    "\n",
    "SIMBOLO | DESCRIPCION |EJEMPLO|BOLEANO \n",
    "-------- | -------- | -------- | --------\n",
    "```==```| IGUAL A  |  5 == 3 | FALSE\n",
    "```!=```| DISTINTO A  |  5 != 3 | TRUE\n",
    "```<```| MENOR QUE  |  5 < 3 | FALSE\n",
    "```>```| MAYOR QUE  |  5 > 3 | TRUE\n",
    "```>=```| MOYOR O IGUAL QUE  |  5 >= 3 | TRUE\n",
    "```<=```| MENOR O IGUAL QUE  |  5 <= 3 | FALSE\n",
    "\n",
    "### 3.3. Cadenas\n",
    "\n",
    "Las cadenas no son más que texto encerrado entre comillas simples(‘cadena’)o\n",
    "dobles (“cadena”). Dentro de las comillas se pueden añadir caracteres\n",
    "especiales escapándolos con \\, como \\n, el carácter de nueva línea, o \\t, el de\n",
    "tabulación.\n",
    "\n",
    "Una cadena puede estar precedida por el carácter u o el carácter r, los cuales\n",
    "indican, respectivamente, que se trata de una cadena que utiliza codificación\n",
    "Unicode y una cadena raw (del inglés, cruda). Las cadenas raw se distinguen de\n",
    "las normales en que los caracteres escapados mediante la barra invertida (\\) no\n",
    "se sustituyen por sus contrapartidas.\n",
    "\n",
    "Esto es especialmente útil, por ejemplo, para las expresiones regulares, como\n",
    "veremos en el capítulo correspondiente.\n",
    "\n",
    "unicode = u”äóè”\n",
    "\n",
    "raw = r”\\n”\n",
    "\n",
    "También, es posible encerrar una cadena entre triples comillas (simples o\n",
    "dobles). De esta forma podremos escribir el texto en varias líneas, y al imprimir\n",
    "la cadena, se respetarán los saltos de línea que introdujimos sin tener que\n",
    "recurrir al carácter \\n, así como las comillas sin tener que escaparlas.\n",
    "\n",
    "triple = “““primera linea\n",
    "\n",
    "esto se vera en otra linea”””\n",
    "\n",
    "Las cadenas también admiten operadores como +, que funciona realizando una\n",
    "concatenación de las cadenas utilizadas como operandos y *, en la que se repite\n",
    "la cadena tantas veces como lo indique el número utilizado como segundo\n",
    "operando.\n",
    "\n",
    "a = “uno”\n",
    "\n",
    "b = “dos”\n",
    "\n",
    "c = a + b # c es “unodos”\n",
    "\n",
    "c = a * 3 # c es “unounouno”"
   ]
  },
  {
   "cell_type": "markdown",
   "metadata": {},
   "source": [
    "## VARIABLES\n",
    "\n",
    "Asignar un valor a una variable en Python\n",
    "Tal y como hemos visto en el ejemplo anterior, para asignar un valor (un dato) a una variable se utiliza el operador de asignación =.\n",
    "\n",
    "En la operación de asignación se ven involucradas tres partes:\n",
    "\n",
    "El operador de asignación =\n",
    "Un identificador o nombre de variable, a la izquierda del operador\n",
    "Un literal, una expresión, una llamada a una función o una combinación de todos ellos a la derecha del operador de asignación\n",
    "\n",
    "```\n",
    "# Asigna a la variable <a> el valor 1\n",
    "a = 1\n",
    "\n",
    "# Asigna a la variable <a> el resultado de la expresión 3 * 4\n",
    "a = 3 * 4\n",
    "\n",
    "# Asigna a la variable <a> la cadena de caracteres 'Pythonista'\n",
    "a = 'Pythonista'\n",
    "```"
   ]
  },
  {
   "cell_type": "markdown",
   "metadata": {},
   "source": [
    "### Un programa Python\n",
    "Para crear un programa en Python, debes almacenarlo en un archivo. El archivo debe tener la extensión .py.\n",
    "\n",
    "La idea de un programa es hacer algo, llevar a cabo una tarea. Para que el programa haga algo, debe agregar instrucciones de código que realicen instrucciones. Una instrucción podría imprimir algún texto o calcular algo, por ejemplo. Un programa de ejemplo puede tener un aspecto similar al siguiente:"
   ]
  },
  {
   "cell_type": "code",
   "execution_count": 2,
   "metadata": {},
   "outputs": [
    {
     "name": "stdout",
     "output_type": "stream",
     "text": [
      "3\n"
     ]
    }
   ],
   "source": [
    "    # program.py\n",
    "    sum = 1 + 2\n",
    "    print(sum)"
   ]
  },
  {
   "cell_type": "markdown",
   "metadata": {},
   "source": [
    "\n",
    "Ejecutar un programa\n",
    "\n",
    "Supongamos que has creado un programa que consta de instrucciones. Para ejecutarlo hay que invocar el programa ejecutable de Python, seguido del nombre del programa. Aquí hay un ejemplo de tal invocación:\n",
    "\n",
    "python3 program.py"
   ]
  },
  {
   "cell_type": "markdown",
   "metadata": {},
   "source": [
    "### La función print()\n",
    "Una de las primeras cosas que es probable que hagas es imprimir en una consola. Una consola es una aplicación de línea de comandos que te permite interactuar con el sistema operativo. En la consola, puedes ejecutar comandos y programas. También puedes ingresar información y mostrar información como texto en la pantalla.\n",
    "\n",
    "Para escribir información en la consola, puedes utilizar la función e implementarla como función principal. Debido a que es una función central, tendrás acceso a ella si Python está instalado. Para usarla dale un argumento: print()"
   ]
  },
  {
   "cell_type": "code",
   "execution_count": 3,
   "metadata": {},
   "outputs": [
    {
     "name": "stdout",
     "output_type": "stream",
     "text": [
      "Hola usuarios PILARES\n"
     ]
    }
   ],
   "source": [
    "    print('Hola usuarios PILARES')"
   ]
  },
  {
   "cell_type": "code",
   "execution_count": 4,
   "metadata": {},
   "outputs": [
    {
     "name": "stdout",
     "output_type": "stream",
     "text": [
      "20\n"
     ]
    }
   ],
   "source": [
    "    suma = 5 + 5 \n",
    "    producto = suma * 2\n",
    "    print(producto)"
   ]
  },
  {
   "cell_type": "markdown",
   "metadata": {},
   "source": [
    "¿Cómo sabes qué tipo tiene algo? Si ve los datos asignados a la variable como se muestra en el código siguiente, puede detectarlos:\n",
    "\n",
    "distancia_al_metro = 8.346 # Parece un decimal flotante\n",
    "\n",
    "La otra forma es usar la función:type()\n",
    "\n",
    "type(distancia_a_metro)"
   ]
  },
  {
   "cell_type": "code",
   "execution_count": 6,
   "metadata": {},
   "outputs": [
    {
     "data": {
      "text/plain": [
       "float"
      ]
     },
     "execution_count": 6,
     "metadata": {},
     "output_type": "execute_result"
    }
   ],
   "source": [
    "distancia_al_metro = 8.346\n",
    "type(distancia_al_metro)"
   ]
  },
  {
   "cell_type": "markdown",
   "metadata": {},
   "source": [
    "Python utiliza dos tipos de operadores: aritmética y asignación.\n",
    "\n",
    "#### Operadores aritméticos\n",
    "Con los operadores aritméticos, se realizan cálculos como suma, resta, división y multiplicación. Aquí hay un subconjunto de operadores aritméticos que puede usar:\n",
    "\n",
    "#### Operadores de asignación\n",
    "Los operadores de asignación se utilizan para asignar valores a una variable a lo largo del ciclo de vida de la variable. Estos son algunos operadores de asignación que es probable que encuentres a medida que aprendes a crear programas:\n",
    "\n",
    "Operador\t\n",
    "\n",
    "  =\t    |      x = 2   |   x ahora contiene 2.\n",
    "\n",
    "  +=\t   |   x += 2   |  x incrementado en 2. Si antes contenía 2, ahora tiene un valor de 4.\n",
    "\n",
    "  -=      |    x -= 2   |  x decrementado por 2. Si antes contenía 2, ahora tiene un valor de 0.\n",
    "\n",
    "  /=\t |     x /= 2  |   x dividido por 2. Si antes contenía 2, ahora tiene un valor de 1.\n",
    "  \n",
    "  *=\t  |    x *= 2   |  x multiplicado por 2. Si antes contenía 2, ahora tiene un valor de 4.\n",
    "\n",
    "\n",
    "\n",
    "#### Fechas\n",
    "Cuando estás creando programas, es probable que interactúes con las fechas. Una fecha en un programa generalmente significa tanto la fecha del calendario como la hora.\n",
    "\n",
    "Una fecha se puede utilizar en varias aplicaciones, como estos ejemplos:\n",
    "\n",
    "Archivo de copia de seguridad. Usar una fecha como parte del nombre de un archivo de copia de seguridad es una buena manera de indicar cuándo se realizó una copia de seguridad y cuándo debe realizarse nuevamente.\n",
    "Condición. Es posible que desee llevar una lógica específica cuando hay una fecha determinada.\n",
    "Métrica. Las fechas se utilizan para comprobar el rendimiento del código para, por ejemplo, medir el tiempo que se tarda en ejecutar una función.\n",
    "Para trabajar con una fecha, debe importar el módulo: date\n",
    "\n",
    "from datetime import date\n",
    "\n",
    "A continuación, puede invocar las funciones con las que desea trabajar. Para obtener la fecha de hoy, puede llamar a la función: today()\n",
    "\n",
    "date.today()\n",
    "\n",
    "Para mostrar la fecha en la consola, puede usar la función. La función toma muchos tipos de datos como entrada. Así es como puedes mostrar la fecha de hoy: print()\n",
    "\n",
    "print(date.today())\n",
    "\n"
   ]
  },
  {
   "cell_type": "code",
   "execution_count": 8,
   "metadata": {},
   "outputs": [
    {
     "name": "stdout",
     "output_type": "stream",
     "text": [
      "2022-06-13\n"
     ]
    }
   ],
   "source": [
    "# Importamos la biblioteca date \n",
    "from datetime import date\n",
    "\n",
    "# Obtenemos la fecha de hoy\n",
    "date.today()\n",
    "\n",
    "# Mostramos la fecha \n",
    "print(date.today())"
   ]
  },
  {
   "cell_type": "markdown",
   "metadata": {},
   "source": [
    "#### Conversión de tipos de datos\n",
    "\n",
    "Quieres usar una fecha con un mensaje. Ese algo suele ser un problema. Si, por ejemplo, desea mostrar la fecha de hoy en la consola, es posible que tenga un problema:"
   ]
  },
  {
   "cell_type": "code",
   "execution_count": 9,
   "metadata": {},
   "outputs": [
    {
     "ename": "TypeError",
     "evalue": "can only concatenate str (not \"datetime.date\") to str",
     "output_type": "error",
     "traceback": [
      "\u001b[1;31m---------------------------------------------------------------------------\u001b[0m",
      "\u001b[1;31mTypeError\u001b[0m                                 Traceback (most recent call last)",
      "\u001b[1;32mc:\\Users\\david\\OneDrive\\Documentos\\GitHub\\CursoIntroPython\\Módulo 1 - Primeros pasos\\Tipos_de_datos_y_operadores.ipynb Cell 15'\u001b[0m in \u001b[0;36m<cell line: 1>\u001b[1;34m()\u001b[0m\n\u001b[1;32m----> <a href='vscode-notebook-cell:/c%3A/Users/david/OneDrive/Documentos/GitHub/CursoIntroPython/M%C3%B3dulo%201%20-%20Primeros%20pasos/Tipos_de_datos_y_operadores.ipynb#ch0000019?line=0'>1</a>\u001b[0m \u001b[39mprint\u001b[39m(\u001b[39m\"\u001b[39;49m\u001b[39mToday\u001b[39;49m\u001b[39m'\u001b[39;49m\u001b[39ms date is: \u001b[39;49m\u001b[39m\"\u001b[39;49m \u001b[39m+\u001b[39;49m date\u001b[39m.\u001b[39;49mtoday())\n",
      "\u001b[1;31mTypeError\u001b[0m: can only concatenate str (not \"datetime.date\") to str"
     ]
    }
   ],
   "source": [
    "print(\"Today's date is: \" + date.today())"
   ]
  },
  {
   "cell_type": "markdown",
   "metadata": {},
   "source": [
    "Lo que obtienes es un error:\n",
    "\n",
    "La última fila del mensaje le indica cuál es el problema. Está intentando usar el operador + y combinar dos tipos de datos diferentes, una cadena y una fecha.\n",
    "\n",
    "Para que este código funcione, debe convertir la fecha en una cadena. Para lograr tal conversión mediante el uso de la función de utilidad: str()\n"
   ]
  },
  {
   "cell_type": "code",
   "execution_count": null,
   "metadata": {},
   "outputs": [],
   "source": [
    "# ejecuta el código de forma correcta aqui\n"
   ]
  },
  {
   "cell_type": "markdown",
   "metadata": {},
   "source": [
    "### Recopilar información\n",
    "Hasta ahora, has aprendido varias construcciones del lenguaje de programación Python. También has escrito un par de programas. Sin embargo, los programas operan con datos, y esos datos provienen de alguna parte. En esta unidad, analizará más de cerca cómo puede recopilar la entrada tanto de la línea de comandos como de la entrada del usuario.\n",
    "\n",
    "#### Entrada del usuario\n",
    "Puede codificarlo para que el programa le diga al usuario que ingrese información. Guarde los datos introducidos en el programa y, a continuación, actúe en consecuencia.\n",
    "\n",
    "Para capturar información del usuario, utilice la función input()\n",
    "\n",
    "print(\"Bienvenido al programa de bienvenida\")\n",
    "name = input(\"Introduzca su nombre \")\n",
    "print(\"Saludos: \" + name)"
   ]
  },
  {
   "cell_type": "code",
   "execution_count": 10,
   "metadata": {},
   "outputs": [
    {
     "name": "stdout",
     "output_type": "stream",
     "text": [
      "Bienvenido al programa de bienvenida\n",
      "Saludos: david\n"
     ]
    }
   ],
   "source": [
    "# Escribe el código necesario aqui\n",
    "print(\"Bienvenido al taller de Python en PILARES\")\n",
    "name = input(\"Introduce tú nombre \")\n",
    "print(\"Bienvenido: \" + name)"
   ]
  },
  {
   "cell_type": "markdown",
   "metadata": {},
   "source": [
    "#### Trabajar con números\n",
    "La función almacena un resultado como una cadena. Por lo tanto, es posible que el siguiente código no haga lo que desea que haga: input()\n",
    "\n",
    "print(\"Calculadora\")\n",
    "first_number = input(\"Primer número: \")\n",
    "second_number = input(\"Segundo número: \")\n",
    "print(first_number + second_number)"
   ]
  },
  {
   "cell_type": "code",
   "execution_count": 11,
   "metadata": {},
   "outputs": [
    {
     "name": "stdout",
     "output_type": "stream",
     "text": [
      "Calculadora\n",
      "12\n"
     ]
    }
   ],
   "source": [
    "# Escribe el código aquí\n",
    "print(\"Calculadora\")\n",
    "first_number = input(\"Primer número: \")\n",
    "second_number = input(\"Segundo número: \")\n",
    "print(first_number + second_number)"
   ]
  },
  {
   "cell_type": "markdown",
   "metadata": {},
   "source": [
    "Probablemente quieres que este programa te responda con la suma pero dará un número diferente. ¿qué salió mal?\n",
    "\n",
    "La explicación es que el programa toma ambos números como si fuesen 'cadenas de texto'. Para que el cálculo funcione correctamente, debe cambiar esas cadenas a números mediante la función int(). Modificando la última línea del programa a utilizar, puede resolver el problema:\n",
    "\n",
    "print(int(first_number) + int(second_number))"
   ]
  },
  {
   "cell_type": "code",
   "execution_count": null,
   "metadata": {},
   "outputs": [],
   "source": [
    "# Escribe tu código aquí"
   ]
  }
 ],
 "metadata": {
  "language_info": {
   "name": "python"
  },
  "orig_nbformat": 4
 },
 "nbformat": 4,
 "nbformat_minor": 2
}
